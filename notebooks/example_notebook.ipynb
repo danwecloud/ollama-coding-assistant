{
 "cells": [
  {
   "cell_type": "code",
   "id": "f3c3133d",
   "metadata": {},
   "outputs": [],
   "source": "import os\nfrom ollama_coding_assistant import CodeAssistant"
  },
  {
   "cell_type": "code",
   "execution_count": null,
   "id": "9d0824da",
   "metadata": {},
   "outputs": [],
   "source": [
    "assistant = CodeAssistant(model=\"codellama:7b\")\n",
    "print(\"Assistant is ready to use!\")"
   ]
  },
  {
   "cell_type": "code",
   "execution_count": null,
   "id": "525c0de9",
   "metadata": {},
   "outputs": [],
   "source": [
    "prompt = \"\"\"\n",
    "def analyze_dataframe(df):\n",
    "    \"\"\"Clean and analyze a pandas DataFrame with missing values.\"\"\"\n",
    "\"\"\"\n",
    "\n",
    "completion = assistant.complete(prompt)\n",
    "print(completion)"
   ]
  }
 ],
 "metadata": {
  "kernelspec": {
   "display_name": "venv",
   "language": "python",
   "name": "python3"
  },
  "language_info": {
   "codemirror_mode": {
    "name": "ipython",
    "version": 3
   },
   "file_extension": ".py",
   "mimetype": "text/x-python",
   "name": "python",
   "nbconvert_exporter": "python",
   "pygments_lexer": "ipython3",
   "version": "3.10.12"
  }
 },
 "nbformat": 4,
 "nbformat_minor": 5
}